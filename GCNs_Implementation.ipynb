{
  "nbformat": 4,
  "nbformat_minor": 0,
  "metadata": {
    "colab": {
      "name": "GCNs_Implementation.ipynb",
      "provenance": []
    },
    "kernelspec": {
      "name": "python3",
      "display_name": "Python 3"
    },
    "language_info": {
      "name": "python"
    }
  },
  "cells": [
    {
      "cell_type": "code",
      "execution_count": 1,
      "metadata": {
        "colab": {
          "base_uri": "https://localhost:8080/"
        },
        "id": "RKwFruoo2HtM",
        "outputId": "46c5eab8-e473-4be3-ce12-1c53efda69ad"
      },
      "outputs": [
        {
          "output_type": "stream",
          "name": "stdout",
          "text": [
            "/content/drive/MyDrive/URV_and_IRD/URV/paper_need_to_write/GCNs\n"
          ]
        }
      ],
      "source": [
        "cd /content/drive/MyDrive/URV_and_IRD/URV/paper_need_to_write/GCNs"
      ]
    },
    {
      "cell_type": "markdown",
      "source": [
        "### Understanding Graph Convolutional Networks for Node Classification\n",
        "\n",
        "- Neural netwok get huge success in the last decade. However, early variants of Neural Networks could only implemented using regular or euclidean data, while a lot data in the real world have underlying graph structures which are non-euclidean. The non-regularity of data structures have led to recent advancements in Graph Neural Networks. \n",
        "\n",
        "## Convolution in Graph Neural Networks\n",
        "\n",
        "- Convolution in GCN is the same as convolution in CNNs. It refers to multiplying the input neurons with a set of weights that are commonly known as filters or kernels. The filters act as a sliding window across the whole image and enable CNNs to learn features from neighboring cells. Within the same layer, the same filter will be used throughout image, this is referred to as wight sharing. For example, using CNN to classify images of cats vs non cats, the same filter will be used in the same layer to detect the nose and the ears of the cat. \n",
        "\n",
        "- GCNs perfom similar operations where the model learns the feature by inspecting neighboring nodes. The major difference between CNNs and GNNs is that CNNs are specially built to operate on reglar (Euclidean) structured data, while GNNs are the generalized version of CNNs where the numbers of nodes connections vary and the nodes are unordered (irrelular or non Euclidean structured data).\n",
        "\n",
        "GCNs themselves can be categorized into 2 major algorithms, **Spatial Graph Convolutional Networks and Spectral Graph Convolutional Networks.** \n",
        "\n",
        "### Spectral-based Graph Convolutional Networks\n",
        "\n",
        "$$H^{[i+1]} = σ(W^{[i]}H^{[i]} + b^{[i]})$$\n",
        "\n",
        "This is basically equivalent to y = mx + b in linear regression, where m is equivalent to the weights \n",
        "\n",
        "x is the input features and b is the bias. \n",
        "\n",
        "### Fast Approximate Spectral Graph Convolutional Networks\n",
        "\n",
        "- The original idea behind Spectral GCN was inspired by signal/wave propagation. We can think of information propogation in Spectral GCN as signal propagation along the nodes. Spectral GCNs make use of the Eigen decomposition of graph Laplacian matrix to implement this method of information propagation. To put it simply, the Eigen-decomposition helps us understand the graph structure, hence, classifying the nodes of the graphs. This is somewhat similar to the basic concept of principal component analysis (PCA) and Linear Discriminant Analysis (LDA) where we use Eigen decomposition to reduce dimensionality and perfom clstering. \n",
        "\n",
        "In this approach, we will take into account the adjacency matrix (A) in the forward propagation equation in addition to the node features (os so-called input feautres). A is a matrix that represents the edges or connection betwen the nodes in the forward propagation equation. The insertion of A in the forward pass equation enables the model to learn the feature representations based on nodes connectivity. For the sake of simplicity, the bias b is omitted. The resulting GCN can be seen as the first order approximation of Spectral Graph Convolution in the form of a message passing network where the information is propagated along the neighboring nodes within the graph.\n",
        "\n",
        "$$H^{[i+1]} = σ(W^{[i]}H^{[i]}A^*)$$\n",
        "\n",
        "So A* is the normalized version of A. To get better understanding on why we need to normalize A and what happens during forward pass in GCNs let's do an experiment. \n",
        "\n"
      ],
      "metadata": {
        "id": "BTNqgVK853pq"
      }
    },
    {
      "cell_type": "markdown",
      "source": [
        "### Building Graph Convolutional Networks\n",
        "\n",
        "**Initializing the Graph G**\n",
        "\n",
        "Let's start by building a simple undirected graph (G) using NetworkX. The graph G will consist of 6 nodes and the feautre of each node will correspond to that particular node number. For example, node 1 will have a node feature of 1, node will have a node feature of 2, and so on. To simplify, we are not going to assign edge features in this experiment."
      ],
      "metadata": {
        "id": "VbkTMibWLg3n"
      }
    },
    {
      "cell_type": "code",
      "source": [
        "import networkx as nx\n",
        "import numpy as np\n",
        "import matplotlib.pyplot as plt\n",
        "from scipy.linalg import fractional_matrix_power\n",
        "\n",
        "import warnings\n",
        "warnings.filterwarnings(\"ignore\", category=UserWarning)"
      ],
      "metadata": {
        "id": "YZViYfBR5q9E"
      },
      "execution_count": 2,
      "outputs": []
    },
    {
      "cell_type": "code",
      "source": [
        "# Initialize the graph\n",
        "G = nx.Graph(name='G')\n",
        "\n",
        "# Create nodes\n",
        "# In this example, the graph will consist of 6 nodes\n",
        "# Each node is assigned node feature which corresponds to the node name\n",
        "for i in range(6):\n",
        "  G.add_node(i, name=i)\n",
        "\n",
        "# Define the edges and the edges to the graph\n",
        "edges = [(0,1), (0,2), (1,2), (0,3), (3,4), (3,5), (4,5)]\n",
        "G.add_edges_from(edges)\n",
        "\n",
        "# See graph info\n",
        "print(\"Graph Info:\\n\", nx.info(G))\n",
        "\n",
        "# Inspect the node features\n",
        "print(\"\\nGraph Nodes: \", G.nodes.data())\n",
        "\n",
        "#Plot the graph\n",
        "nx.draw(G, with_labels=True, font_weight='bold')\n",
        "plt.show()"
      ],
      "metadata": {
        "colab": {
          "base_uri": "https://localhost:8080/",
          "height": 388
        },
        "id": "W_yQtB2oMvvq",
        "outputId": "5ae8df61-c3ac-476f-d9b5-58d6bba78946"
      },
      "execution_count": 3,
      "outputs": [
        {
          "output_type": "stream",
          "name": "stdout",
          "text": [
            "Graph Info:\n",
            " Graph named 'G' with 6 nodes and 7 edges\n",
            "\n",
            "Graph Nodes:  [(0, {'name': 0}), (1, {'name': 1}), (2, {'name': 2}), (3, {'name': 3}), (4, {'name': 4}), (5, {'name': 5})]\n"
          ]
        },
        {
          "output_type": "display_data",
          "data": {
            "text/plain": [
              "<Figure size 432x288 with 1 Axes>"
            ],
            "image/png": "[encoded data removed]"
          },
          "metadata": {}
        }
      ]
    },
    {
      "cell_type": "markdown",
      "source": [
        "Since we only have 1 graph, this data configuration is an example of a Single mode representation. We will build a GCN that will learn the nodes fratures representation."
      ],
      "metadata": {
        "id": "r7fPhSrycDaW"
      }
    },
    {
      "cell_type": "markdown",
      "source": [
        "Inserting Adjacency Matrix (A) to Forward Pass Equation\n",
        "\n",
        "The next step is to obtain the adjacency matrix (A) and node features matrix (x) from graph G."
      ],
      "metadata": {
        "id": "ZT25J_CzcROJ"
      }
    },
    {
      "cell_type": "code",
      "source": [
        "# Get the Adjacency Matrix (A) and Node features matrix (x) as numpy array\n",
        "A = np.array(nx.attr_matrix(G, node_attr='name')[0])\n",
        "X = np.array(nx.attr_matrix(G, node_attr='name')[1])\n",
        "X = np.expand_dims(X, axis=1)\n",
        "\n",
        "print(\"Shape of A: \", A.shape)\n",
        "print(\"\\nShape of X: \", X.shape)\n",
        "print(\"\\nAdjacency Matrix (A): \\n\", A)\n",
        "print(\"\\nNode Feautres matrix (X):\\n\", X)"
      ],
      "metadata": {
        "colab": {
          "base_uri": "https://localhost:8080/"
        },
        "id": "RL6MCoWpaYrW",
        "outputId": "0b36f955-5576-4186-e6e5-f544c00c6847"
      },
      "execution_count": 4,
      "outputs": [
        {
          "output_type": "stream",
          "name": "stdout",
          "text": [
            "Shape of A:  (6, 6)\n",
            "\n",
            "Shape of X:  (6, 1)\n",
            "\n",
            "Adjacency Matrix (A): \n",
            " [[0. 1. 1. 1. 0. 0.]\n",
            " [1. 0. 1. 0. 0. 0.]\n",
            " [1. 1. 0. 0. 0. 0.]\n",
            " [1. 0. 0. 0. 1. 1.]\n",
            " [0. 0. 0. 1. 0. 1.]\n",
            " [0. 0. 0. 1. 1. 0.]]\n",
            "\n",
            "Node Feautres matrix (X):\n",
            " [[0]\n",
            " [1]\n",
            " [2]\n",
            " [3]\n",
            " [4]\n",
            " [5]]\n"
          ]
        }
      ]
    },
    {
      "cell_type": "markdown",
      "source": [
        "Now, let's investigate how by inserting A into the forward pass equation adds to richer feature representation of the model. We are going to perform dot product of A and X. "
      ],
      "metadata": {
        "id": "SmLIQA47d2Wv"
      }
    },
    {
      "cell_type": "code",
      "source": [
        "# Dot product Adjacency Matrix (A) and Node Feautres (X)\n",
        "\n",
        "AX = np.dot(A, X)\n",
        "print(\"Dot product of A and X (AX): \\n\", AX)"
      ],
      "metadata": {
        "colab": {
          "base_uri": "https://localhost:8080/"
        },
        "id": "Kn2vjJEedoaJ",
        "outputId": "37ccc9ba-2c90-49d2-c58c-df75ca674cb8"
      },
      "execution_count": 5,
      "outputs": [
        {
          "output_type": "stream",
          "name": "stdout",
          "text": [
            "Dot product of A and X (AX): \n",
            " [[6.]\n",
            " [2.]\n",
            " [1.]\n",
            " [9.]\n",
            " [8.]\n",
            " [7.]]\n"
          ]
        }
      ]
    },
    {
      "cell_type": "markdown",
      "source": [
        "From the results, it is apparent that AX represents the sum of neighboring nodes features. For example the first row of AX corresponds to the sum of nodes features connected to node 0, which is node 1, 2, and 3. "
      ],
      "metadata": {
        "id": "MdxmiONVeua8"
      }
    },
    {
      "cell_type": "markdown",
      "source": [
        "## The dot product of adjacency matrix and node features matrix represents the sum of neighboring node features.\n",
        "\n",
        "- But, if we think about it more, we will realize that while AX sums up the adjacent node features, it does not take into account the features of the node itself.\n",
        "\n",
        "## Inserting Selh-Loops and Normalizing A\n",
        "\n",
        "- To address this problem, we now add self-loops to each node of A. Adding self loops is basically a mechanism to connect a node to itself. That being said, all the diagonal elements of Adjacency Matrix A will now become 1 because each node is connected to itself. Let's call A with self-loops added as A_hat and recalculate AX, which is now the dot product of A_hat and X:"
      ],
      "metadata": {
        "id": "XMXIDubXwVYf"
      }
    },
    {
      "cell_type": "code",
      "source": [
        "# Add self loops\n",
        "G_self_loops = G.copy()\n",
        "\n",
        "self_loops = []\n",
        "for i in range(G.number_of_nodes()):\n",
        "  self_loops.append((i, i))\n",
        "\n",
        "G_self_loops.add_edges_from(self_loops)\n",
        "\n",
        "#Check the edges of G_self_loops after adding the self loops\n",
        "print(\"Edges of G with self-loops:\\n\", G_self_loops.edges)\n",
        "\n",
        "#Get the adjacency matrix (A) and node features matrix (X) of added\n",
        "# self-loops graph\n",
        "A_hat = np.array(nx.attr_matrix(G_self_loops, node_attr='name')[0])\n",
        "print(\"Adjacency Matrix of added self-loops G(A_hat):\\n\", A_hat)\n",
        "\n",
        "# Calculate the dot product of A_hat and X (AX)\n",
        "AX = np.dot(A_hat, X)\n",
        "print('AX:\\n', AX)"
      ],
      "metadata": {
        "id": "0TCJc2VreeQc",
        "colab": {
          "base_uri": "https://localhost:8080/"
        },
        "outputId": "70c07f5d-dc1f-46dc-9a62-c5afef082a6c"
      },
      "execution_count": 7,
      "outputs": [
        {
          "output_type": "stream",
          "name": "stdout",
          "text": [
            "Edges of G with self-loops:\n",
            " [(0, 1), (0, 2), (0, 3), (0, 0), (1, 2), (1, 1), (2, 2), (3, 4), (3, 5), (3, 3), (4, 5), (4, 4), (5, 5)]\n",
            "Adjacency Matrix of added self-loops G(A_hat):\n",
            " [[1. 1. 1. 1. 0. 0.]\n",
            " [1. 1. 1. 0. 0. 0.]\n",
            " [1. 1. 1. 0. 0. 0.]\n",
            " [1. 0. 0. 1. 1. 1.]\n",
            " [0. 0. 0. 1. 1. 1.]\n",
            " [0. 0. 0. 1. 1. 1.]]\n",
            "AX:\n",
            " [[ 6.]\n",
            " [ 3.]\n",
            " [ 3.]\n",
            " [12.]\n",
            " [12.]\n",
            " [12.]]\n"
          ]
        }
      ]
    },
    {
      "cell_type": "markdown",
      "source": [
        "## Now second problem is the elements of AX are not normalized. \n",
        "- Similar to data pre-processing for any Neural Networks operation, we need to normalize the features to prevent numerical instabilities and and vanishing/ exploding gradients in order for the model to converge. In GCNs, we normalize our data by calculating the Drgree Matrix (D) and performing dot operation of the inverse of D with AX.\n",
        "\n",
        "$$Normalized features = D^{-1}AX$$\n",
        "\n",
        "which we will call DAX in this article. In graph terminology the term degree refers to the number of edges a node is connected to. \n"
      ],
      "metadata": {
        "id": "Ffjc29Maznm4"
      }
    },
    {
      "cell_type": "code",
      "source": [
        "# Get the Degree Matrix of the added self-loops graph\n",
        "\n",
        "Deg_Mat = G_self_loops.degree()\n",
        "print('Degree Matrix of added self-loops G (D): ', Deg_Mat)\n",
        "\n",
        "#Convert the degree matrix to a N x N matrix where N is the number of nodes\n",
        "D = np.diag([deg for (n, deg) in list(Deg_Mat)])\n",
        "print(\"Degree Matrix of added self-loops G as numpy array (D):\\n\", D)\n",
        "\n",
        "# Find the inverse of Degree Matrix (D)\n",
        "D_inv = np.linalg.inv(D)\n",
        "print(\"Inverse of D:\\n\", D_inv)\n",
        "\n",
        "# Dot product of D and AX for normalization\n",
        "DAX = np.dot(D_inv, AX)\n",
        "print('DAX:\\n', DAX)"
      ],
      "metadata": {
        "colab": {
          "base_uri": "https://localhost:8080/"
        },
        "id": "iruP71WNzYpj",
        "outputId": "87f18d55-e224-4650-963a-bd613fe44479"
      },
      "execution_count": 8,
      "outputs": [
        {
          "output_type": "stream",
          "name": "stdout",
          "text": [
            "Degree Matrix of added self-loops G (D):  [(0, 5), (1, 4), (2, 4), (3, 5), (4, 4), (5, 4)]\n",
            "Degree Matrix of added self-loops G as numpy array (D):\n",
            " [[5 0 0 0 0 0]\n",
            " [0 4 0 0 0 0]\n",
            " [0 0 4 0 0 0]\n",
            " [0 0 0 5 0 0]\n",
            " [0 0 0 0 4 0]\n",
            " [0 0 0 0 0 4]]\n",
            "Inverse of D:\n",
            " [[0.2  0.   0.   0.   0.   0.  ]\n",
            " [0.   0.25 0.   0.   0.   0.  ]\n",
            " [0.   0.   0.25 0.   0.   0.  ]\n",
            " [0.   0.   0.   0.2  0.   0.  ]\n",
            " [0.   0.   0.   0.   0.25 0.  ]\n",
            " [0.   0.   0.   0.   0.   0.25]]\n",
            "DAX:\n",
            " [[1.2 ]\n",
            " [0.75]\n",
            " [0.75]\n",
            " [2.4 ]\n",
            " [3.  ]\n",
            " [3.  ]]\n"
          ]
        }
      ]
    },
    {
      "cell_type": "markdown",
      "source": [
        "We can see the impact normalization has on DAX, where the elemetn that corresponds to node 3 has lower values compared to node 4 and 5. but why would node 3 have different values after normalization if it has the same initial value as node 4 and 5?\n",
        "\n",
        "$$normalizing term = D^{-1}A$$\n",
        "\n",
        "$$ normalizing term = D^{- \\frac{1}{2}}AD^{-\\frac{1}{2}} $$"
      ],
      "metadata": {
        "id": "LqN-Xgcx6P3E"
      }
    },
    {
      "cell_type": "code",
      "source": [
        "# Symmetrically-normalization\n",
        "D_half_norm = fractional_matrix_power(D, -0.5)\n",
        "DADX = D_half_norm.dot(A_hat).dot(D_half_norm).dot(X)\n",
        "print('DADX:\\n', DADX)"
      ],
      "metadata": {
        "colab": {
          "base_uri": "https://localhost:8080/"
        },
        "id": "ImId7LSP6GIx",
        "outputId": "b2766852-77ee-47fb-85d6-57e4428ef394"
      },
      "execution_count": 9,
      "outputs": [
        {
          "output_type": "stream",
          "name": "stdout",
          "text": [
            "DADX:\n",
            " [[1.27082039]\n",
            " [0.75      ]\n",
            " [0.75      ]\n",
            " [2.61246118]\n",
            " [2.92082039]\n",
            " [2.92082039]]\n"
          ]
        }
      ]
    },
    {
      "cell_type": "markdown",
      "source": [
        "### Adding weights and activation function\n",
        "\n",
        "We are going to build a 2-layer GCN using ReLU as the activation function. To initialize the weights, we will use random seeds so we can replicate the results. Just keep in mind that the weight initialization cannot be 0. In this experiment, we are going to set 4 neurons for the hidden layer. As we will be plotting the feature representation in 2 dimensions, there will be 2 output neurons"
      ],
      "metadata": {
        "id": "Uzso8hS28IbM"
      }
    },
    {
      "cell_type": "code",
      "source": [
        "# Initialize the weights\n",
        "np.random.seed(77777)\n",
        "n_h = 4 # number of neurons in the hidden layer\n",
        "n_y = 2 # number of neurons in the output layer\n",
        "W0 = np.random.randn(X.shape[1], n_h) * 0.01\n",
        "W1 = np.random.randn(n_h, n_y) * 0.01\n",
        "\n",
        "\n",
        "# Implement ReLU as activation function\n",
        "def relu(x):\n",
        "  return np.maximum(0,x)\n",
        "\n",
        "# Build GCN layer\n",
        "# In this function, we implement numpy to simplify\n",
        "def gcn(A, H, W):\n",
        "  I = np.identity(A.shape[0]) # Create identity matrix of A\n",
        "  A_hat = A + I #add self-loop to A\n",
        "  D = np.diag(np.sum(A_hat, axis=0)) # create degree matrix of A\n",
        "  D_half_norm = fractional_matrix_power(D, -0.5) # calculate D to the power of -0.5\n",
        "  eq = D_half_norm.dot(A_hat).dot(D_half_norm).dot(H).dot(W)\n",
        "  return relu(eq)\n",
        "\n",
        "# Do forward propogation\n",
        "H1 = gcn(A, X, W0)\n",
        "H2 = gcn(A, H1, W1)\n",
        "print(\"Features Representation from GCN output:\\n\", H2)\n"
      ],
      "metadata": {
        "colab": {
          "base_uri": "https://localhost:8080/"
        },
        "id": "Cz-jeObn743B",
        "outputId": "b3e7e98b-8706-4c06-e804-26b99c354308"
      },
      "execution_count": 12,
      "outputs": [
        {
          "output_type": "stream",
          "name": "stdout",
          "text": [
            "Features Representation from GCN output:\n",
            " [[0.00027758 0.        ]\n",
            " [0.00017298 0.        ]\n",
            " [0.00017298 0.        ]\n",
            " [0.00053017 0.        ]\n",
            " [0.00054097 0.        ]\n",
            " [0.00054097 0.        ]]\n"
          ]
        }
      ]
    },
    {
      "cell_type": "markdown",
      "source": [
        "## Plotting the feautures representations\n",
        "\n",
        "The magic of GCN is that it can learn features representation even without training. Let's visualize the feautres representation after passing through 2 layer GCN"
      ],
      "metadata": {
        "id": "3B3nxaKW_wuJ"
      }
    },
    {
      "cell_type": "code",
      "source": [
        "def plot_features(H2):\n",
        "  #plot the features representation\n",
        "  x = H2[:,0]\n",
        "  y = H2[:,1]\n",
        "\n",
        "  size = 1000\n",
        "\n",
        "  plt.scatter(x, y, size)\n",
        "  plt.xlim([np.min(x)*0.9, np.max(x)*1.1])\n",
        "  plt.ylim([-1, 1])\n",
        "  plt.xlabel('Feature Representation Dimension 0')\n",
        "  plt.ylabel('Feature Representation Dimension 1')\n",
        "  plt.title('Feature Representation')\n",
        "\n",
        "  for i, row in enumerate(H2):\n",
        "    str = \"{}\".format(i)\n",
        "    plt.annotate(str, (row[0], row[1]), fontsize=18, fontweight='bold')\n",
        "\n",
        "  plt.show()\n",
        "plot_features(H2)"
      ],
      "metadata": {
        "colab": {
          "base_uri": "https://localhost:8080/",
          "height": 295
        },
        "id": "-wALELGC-DEx",
        "outputId": "39492ec4-3913-4937-f76a-7f0cc8dc1744"
      },
      "execution_count": 13,
      "outputs": [
        {
          "output_type": "display_data",
          "data": {
            "text/plain": [
              "<Figure size 432x288 with 1 Axes>"
            ],
            "image/png": "[encoded data removed]"
          },
          "metadata": {
            "needs_background": "light"
          }
        }
      ]
    },
    {
      "cell_type": "markdown",
      "source": [
        "From the plot above, it can be clearly seen that there are 2 major groups, where the left group consists of nodes 0, 1, 2, and the right group consists of nodes 3,4,5. We can infer that the GCNs can already learn the feautre representation even without training or backpropagation."
      ],
      "metadata": {
        "id": "uwSb3Ug3Bz9h"
      }
    },
    {
      "cell_type": "markdown",
      "source": [
        "## Key Takeaways\n",
        "\n",
        "- The term 'convolution' in Graph Convolutional Networks is similar to convolutional neural network in terms of weight sharing. The main difference lies in the data structure, where GCNs are the generalized version of CNN that can work on data with underlying non regular structures. \n",
        "\n",
        "- The insertion of Adjacency matrix (A) in the forward pass equation of GCNs enable the model to learn the features of neighboring nodes. This mechanism can be seen as a message passing operation along the nodes within the graph. \n",
        "\n",
        "- Renormalization trick is used to normalize the feautres in Fast Approximate Spectral-based Graph Convolutional Networks.\n",
        "\n",
        "- GCNs can learn features representation even before training."
      ],
      "metadata": {
        "id": "w-4uoklyCMCs"
      }
    },
    {
      "cell_type": "markdown",
      "source": [
        "References:\n",
        "\n",
        "https://towardsdatascience.com/understanding-graph-convolutional-networks-for-node-classification-a2bfdb7aba7b\n"
      ],
      "metadata": {
        "id": "npJ6_PfrFNhu"
      }
    },
    {
      "cell_type": "code",
      "source": [
        ""
      ],
      "metadata": {
        "id": "D-XJX-Y7BvTG"
      },
      "execution_count": null,
      "outputs": []
    }
  ]
}