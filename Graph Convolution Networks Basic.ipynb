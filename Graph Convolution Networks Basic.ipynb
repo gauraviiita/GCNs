{
 "cells": [
  {
   "cell_type": "code",
   "execution_count": 2,
   "id": "638e3b53",
   "metadata": {},
   "outputs": [],
   "source": [
    "# A simple graph example\n",
    "import numpy as np\n",
    "A = np.matrix([\n",
    "    [0, 1, 0, 0],\n",
    "    [0, 0, 1, 1],\n",
    "    [0, 1, 0, 0],\n",
    "    [1, 0, 1, 0]],\n",
    "    dtype=float\n",
    ")"
   ]
  },
  {
   "cell_type": "code",
   "execution_count": 3,
   "id": "ef33ec42",
   "metadata": {},
   "outputs": [
    {
     "data": {
      "text/plain": [
       "matrix([[ 0.,  0.],\n",
       "        [ 1., -1.],\n",
       "        [ 2., -2.],\n",
       "        [ 3., -3.]])"
      ]
     },
     "execution_count": 3,
     "metadata": {},
     "output_type": "execute_result"
    }
   ],
   "source": [
    "# We generate 2 integer features for every node \n",
    "x = np.matrix([\n",
    "    [i, -i]\n",
    "    for i in range(A.shape[0])\n",
    "], dtype=float)\n",
    "x"
   ]
  },
  {
   "cell_type": "code",
   "execution_count": 4,
   "id": "ea54a96e",
   "metadata": {},
   "outputs": [],
   "source": [
    "# Applying the propagation rule\n",
    "# We have a graph, its adjacency matrix A and a set of input features x.\n",
    "# Let apply the propagation rule:"
   ]
  },
  {
   "cell_type": "code",
   "execution_count": 6,
   "id": "3b29492f",
   "metadata": {},
   "outputs": [
    {
     "data": {
      "text/plain": [
       "matrix([[ 1., -1.],\n",
       "        [ 5., -5.],\n",
       "        [ 1., -1.],\n",
       "        [ 2., -2.]])"
      ]
     },
     "execution_count": 6,
     "metadata": {},
     "output_type": "execute_result"
    }
   ],
   "source": [
    "conv = A*x\n",
    "conv"
   ]
  },
  {
   "cell_type": "code",
   "execution_count": 7,
   "id": "1eb5348f",
   "metadata": {},
   "outputs": [],
   "source": [
    "#the representation of each (each row) is sum of its neighbors features"
   ]
  },
  {
   "cell_type": "markdown",
   "id": "068fe957",
   "metadata": {},
   "source": [
    "## Problem \n",
    "\n",
    "The aggregated representation of a node does not include its own features.\n",
    "The representation is an aggregate of the features of neighbor nodes, so only nodes that \n",
    "has a self loop will include their own features in the aggregate\n",
    "\n",
    "Nodes with large degrees will have large values in the feature representation while nodes\n",
    "with small degrees will have small values. This can cause vanishing or exploding gradients. \n",
    "But is also problematic for stochastic gradient algorithms which are typically used to train such networks and are sensitive to the scale of each of the input features."
   ]
  },
  {
   "cell_type": "code",
   "execution_count": 8,
   "id": "bb62cdf7",
   "metadata": {},
   "outputs": [],
   "source": [
    "## Adding a self loops\n",
    "# In practice by adding the identity matrix I to the adjacency matrix A before appling \n",
    "# propagation rule."
   ]
  },
  {
   "cell_type": "code",
   "execution_count": 10,
   "id": "9d2e44fe",
   "metadata": {},
   "outputs": [
    {
     "data": {
      "text/plain": [
       "matrix([[1., 0., 0., 0.],\n",
       "        [0., 1., 0., 0.],\n",
       "        [0., 0., 1., 0.],\n",
       "        [0., 0., 0., 1.]])"
      ]
     },
     "execution_count": 10,
     "metadata": {},
     "output_type": "execute_result"
    }
   ],
   "source": [
    "I = np.matrix(np.eye(A.shape[0]))\n",
    "I"
   ]
  },
  {
   "cell_type": "code",
   "execution_count": 11,
   "id": "9628b17c",
   "metadata": {},
   "outputs": [
    {
     "data": {
      "text/plain": [
       "matrix([[ 1., -1.],\n",
       "        [ 6., -6.],\n",
       "        [ 3., -3.],\n",
       "        [ 5., -5.]])"
      ]
     },
     "execution_count": 11,
     "metadata": {},
     "output_type": "execute_result"
    }
   ],
   "source": [
    "A_hat = A + I\n",
    "conv = A_hat*x\n",
    "conv"
   ]
  },
  {
   "cell_type": "markdown",
   "id": "f5564ac8",
   "metadata": {},
   "source": [
    "### Normalizing the feature representations\n",
    "\n",
    "The feature representations can be normalized by node degree by transforming the adjacency matrix A by multiplying it with the inverse degree matrix D\n",
    "\n",
    "F(X, A) = D^(-1)AX"
   ]
  },
  {
   "cell_type": "code",
   "execution_count": 15,
   "id": "cb4c4597",
   "metadata": {},
   "outputs": [
    {
     "name": "stdout",
     "output_type": "stream",
     "text": [
      "[1. 2. 2. 1.]\n"
     ]
    },
    {
     "data": {
      "text/plain": [
       "matrix([[1., 0., 0., 0.],\n",
       "        [0., 2., 0., 0.],\n",
       "        [0., 0., 2., 0.],\n",
       "        [0., 0., 0., 1.]])"
      ]
     },
     "execution_count": 15,
     "metadata": {},
     "output_type": "execute_result"
    }
   ],
   "source": [
    "D = np.array(np.sum(A, axis=0))[0]\n",
    "print(D)\n",
    "D = np.matrix(np.diag(D))\n",
    "D"
   ]
  },
  {
   "cell_type": "code",
   "execution_count": 16,
   "id": "c2d9cfe4",
   "metadata": {},
   "outputs": [],
   "source": [
    "# before Adjacency matrix\n",
    "\n",
    "A = np.matrix([\n",
    "    [0, 1, 0, 0],\n",
    "    [0, 0, 1, 1],\n",
    "    [0, 1, 0, 0],\n",
    "    [1, 0, 1, 0]],\n",
    "    dtype=float\n",
    ")"
   ]
  },
  {
   "cell_type": "code",
   "execution_count": 18,
   "id": "104fc956",
   "metadata": {},
   "outputs": [
    {
     "data": {
      "text/plain": [
       "matrix([[0. , 1. , 0. , 0. ],\n",
       "        [0. , 0. , 0.5, 0.5],\n",
       "        [0. , 0.5, 0. , 0. ],\n",
       "        [1. , 0. , 1. , 0. ]])"
      ]
     },
     "execution_count": 18,
     "metadata": {},
     "output_type": "execute_result"
    }
   ],
   "source": [
    "# After normalization\n",
    "\n",
    "normalized = D**-1 * A\n",
    "normalized"
   ]
  },
  {
   "cell_type": "code",
   "execution_count": 19,
   "id": "1313ebfa",
   "metadata": {},
   "outputs": [],
   "source": [
    "## observe that the weights in each row of the adjacency matrix have been\n",
    "# divided by the degree of the node corresponding to the row."
   ]
  },
  {
   "cell_type": "code",
   "execution_count": 20,
   "id": "8fc4f586",
   "metadata": {},
   "outputs": [
    {
     "data": {
      "text/plain": [
       "matrix([[ 1. , -1. ],\n",
       "        [ 2.5, -2.5],\n",
       "        [ 0.5, -0.5],\n",
       "        [ 2. , -2. ]])"
      ]
     },
     "execution_count": 20,
     "metadata": {},
     "output_type": "execute_result"
    }
   ],
   "source": [
    "conv = D**-1 * A * x\n",
    "conv"
   ]
  },
  {
   "cell_type": "markdown",
   "id": "8e30f295",
   "metadata": {},
   "source": [
    "## Putting it all together\n",
    "We now combine the self loop and normalization tips"
   ]
  },
  {
   "cell_type": "code",
   "execution_count": 21,
   "id": "d7954a47",
   "metadata": {},
   "outputs": [],
   "source": [
    "# adding back the weights\n",
    "# first order of business is applying the weights. Note that here D_hat is the degree\n",
    "# matrix of A_hat = A + I, the degree matrix of A with forced self loops"
   ]
  },
  {
   "cell_type": "code",
   "execution_count": 24,
   "id": "2836c473",
   "metadata": {},
   "outputs": [
    {
     "data": {
      "text/plain": [
       "matrix([[ 1, -1],\n",
       "        [-1,  1]])"
      ]
     },
     "execution_count": 24,
     "metadata": {},
     "output_type": "execute_result"
    }
   ],
   "source": [
    "W = np.matrix([\n",
    "    [1, -1],\n",
    "    [-1, 1]\n",
    "])\n",
    "W # shape of weight matrix is 2 by 2 because input features are two."
   ]
  },
  {
   "cell_type": "code",
   "execution_count": 27,
   "id": "794c0a09",
   "metadata": {},
   "outputs": [
    {
     "data": {
      "text/plain": [
       "matrix([[2., 0., 0., 0.],\n",
       "        [0., 3., 0., 0.],\n",
       "        [0., 0., 3., 0.],\n",
       "        [0., 0., 0., 2.]])"
      ]
     },
     "execution_count": 27,
     "metadata": {},
     "output_type": "execute_result"
    }
   ],
   "source": [
    "D_hat = np.array(np.sum(A_hat, axis=0))[0]\n",
    "\n",
    "D_hat = np.matrix(np.diag(D_hat))\n",
    "D_hat"
   ]
  },
  {
   "cell_type": "code",
   "execution_count": 28,
   "id": "7c0c32e6",
   "metadata": {},
   "outputs": [
    {
     "data": {
      "text/plain": [
       "matrix([[ 1., -1.],\n",
       "        [ 4., -4.],\n",
       "        [ 2., -2.],\n",
       "        [ 5., -5.]])"
      ]
     },
     "execution_count": 28,
     "metadata": {},
     "output_type": "execute_result"
    }
   ],
   "source": [
    "final_conv = D_hat ** -1 *A_hat * x * W\n",
    "final_conv"
   ]
  },
  {
   "cell_type": "code",
   "execution_count": 29,
   "id": "d8594d1a",
   "metadata": {},
   "outputs": [],
   "source": [
    "# And if we want to reduce the dimensionality of the output feature\n",
    "# representations we can reduce the size of the weight matrix w:"
   ]
  },
  {
   "cell_type": "code",
   "execution_count": 30,
   "id": "d2e32fdf",
   "metadata": {},
   "outputs": [],
   "source": [
    "W = np.matrix([\n",
    "    [1],\n",
    "    [-1]\n",
    "])"
   ]
  },
  {
   "cell_type": "code",
   "execution_count": 33,
   "id": "c65c1e9a",
   "metadata": {},
   "outputs": [
    {
     "data": {
      "text/plain": [
       "matrix([[1.],\n",
       "        [4.],\n",
       "        [2.],\n",
       "        [5.]])"
      ]
     },
     "execution_count": 33,
     "metadata": {},
     "output_type": "execute_result"
    }
   ],
   "source": [
    "new_conv = D_hat ** -1 * A_hat * x * W\n",
    "new_conv"
   ]
  },
  {
   "cell_type": "code",
   "execution_count": 34,
   "id": "37ded3eb",
   "metadata": {},
   "outputs": [],
   "source": [
    "# adding an activation fucntion\n",
    "# we choose to preserve the dimensionality of the feature representations\n",
    "# and apply the ReLU activation function"
   ]
  },
  {
   "cell_type": "code",
   "execution_count": 62,
   "id": "7b50adbb",
   "metadata": {},
   "outputs": [
    {
     "name": "stdout",
     "output_type": "stream",
     "text": [
      "[[ 0.5        -0.5       ]\n",
      " [ 1.33333333 -1.33333333]\n",
      " [ 0.66666667 -0.66666667]\n",
      " [ 2.5        -2.5       ]]\n"
     ]
    }
   ],
   "source": [
    "import torch.nn as nn\n",
    "import torch\n",
    "W = np.matrix([\n",
    "    [1, -1],\n",
    "    [-1, 1]\n",
    "])\n",
    "\n",
    "conv = D_hat**-2 * A_hat * x * W\n",
    "print(conv)\n",
    "\n",
    "conv1 = torch.from_numpy(conv)\n",
    "conv2 = torch.nn.functional.relu(conv1)\n"
   ]
  },
  {
   "cell_type": "code",
   "execution_count": 63,
   "id": "eec30b76",
   "metadata": {},
   "outputs": [
    {
     "data": {
      "text/plain": [
       "tensor([[0.5000, 0.0000],\n",
       "        [1.3333, 0.0000],\n",
       "        [0.6667, 0.0000],\n",
       "        [2.5000, 0.0000]], dtype=torch.float64)"
      ]
     },
     "execution_count": 63,
     "metadata": {},
     "output_type": "execute_result"
    }
   ],
   "source": [
    "conv2"
   ]
  },
  {
   "cell_type": "markdown",
   "id": "0ac5da7e",
   "metadata": {},
   "source": [
    "## Zachary's Karate Club\n",
    "\n",
    "It is a commonly used social network where nodes represent members of a karate club and the edges their mutual relations. While Zachary was studying the karate club, a conflict arose between the administrator and the instructor which resulted in the club splitting in two. The figure below shows the graph representation of the network and nodes are labeled according to which part of the club. The administrator and instructor are marked with A and I respectively."
   ]
  },
  {
   "cell_type": "code",
   "execution_count": 64,
   "id": "221ce894",
   "metadata": {},
   "outputs": [],
   "source": [
    "# Building the GCN\n"
   ]
  },
  {
   "cell_type": "code",
   "execution_count": 65,
   "id": "fce46782",
   "metadata": {},
   "outputs": [],
   "source": [
    "from networkx import karate_club_graph, to_numpy_matrix"
   ]
  },
  {
   "cell_type": "code",
   "execution_count": 66,
   "id": "cdbe87f1",
   "metadata": {},
   "outputs": [],
   "source": [
    "zkc = karate_club_graph()\n",
    "order = sorted(list(zkc.nodes()))\n",
    "\n"
   ]
  },
  {
   "cell_type": "code",
   "execution_count": 68,
   "id": "fec45a87",
   "metadata": {},
   "outputs": [],
   "source": [
    "A = to_numpy_matrix(zkc, nodelist=order)\n",
    "I = np.eye(zkc.number_of_nodes())"
   ]
  },
  {
   "cell_type": "code",
   "execution_count": 70,
   "id": "28dd9187",
   "metadata": {},
   "outputs": [
    {
     "data": {
      "text/plain": [
       "(34, 34)"
      ]
     },
     "execution_count": 70,
     "metadata": {},
     "output_type": "execute_result"
    }
   ],
   "source": [
    "A.shape"
   ]
  },
  {
   "cell_type": "code",
   "execution_count": 71,
   "id": "670f80be",
   "metadata": {},
   "outputs": [
    {
     "data": {
      "text/plain": [
       "matrix([[0., 1., 1., ..., 1., 0., 0.],\n",
       "        [1., 0., 1., ..., 0., 0., 0.],\n",
       "        [1., 1., 0., ..., 0., 1., 0.],\n",
       "        ...,\n",
       "        [1., 0., 0., ..., 0., 1., 1.],\n",
       "        [0., 0., 1., ..., 1., 0., 1.],\n",
       "        [0., 0., 0., ..., 1., 1., 0.]])"
      ]
     },
     "execution_count": 71,
     "metadata": {},
     "output_type": "execute_result"
    }
   ],
   "source": [
    "A"
   ]
  },
  {
   "cell_type": "code",
   "execution_count": 72,
   "id": "36011e4e",
   "metadata": {},
   "outputs": [
    {
     "data": {
      "text/plain": [
       "(34, 34)"
      ]
     },
     "execution_count": 72,
     "metadata": {},
     "output_type": "execute_result"
    }
   ],
   "source": [
    "I.shape"
   ]
  },
  {
   "cell_type": "code",
   "execution_count": 73,
   "id": "db0f4f44",
   "metadata": {},
   "outputs": [
    {
     "data": {
      "text/plain": [
       "array([[1., 0., 0., ..., 0., 0., 0.],\n",
       "       [0., 1., 0., ..., 0., 0., 0.],\n",
       "       [0., 0., 1., ..., 0., 0., 0.],\n",
       "       ...,\n",
       "       [0., 0., 0., ..., 1., 0., 0.],\n",
       "       [0., 0., 0., ..., 0., 1., 0.],\n",
       "       [0., 0., 0., ..., 0., 0., 1.]])"
      ]
     },
     "execution_count": 73,
     "metadata": {},
     "output_type": "execute_result"
    }
   ],
   "source": [
    "I"
   ]
  },
  {
   "cell_type": "code",
   "execution_count": 74,
   "id": "5ecb052b",
   "metadata": {},
   "outputs": [],
   "source": [
    "A_hat = A + I"
   ]
  },
  {
   "cell_type": "code",
   "execution_count": 75,
   "id": "a1f120d5",
   "metadata": {},
   "outputs": [
    {
     "data": {
      "text/plain": [
       "matrix([[17.,  0.,  0., ...,  0.,  0.,  0.],\n",
       "        [ 0., 10.,  0., ...,  0.,  0.,  0.],\n",
       "        [ 0.,  0., 11., ...,  0.,  0.,  0.],\n",
       "        ...,\n",
       "        [ 0.,  0.,  0., ...,  7.,  0.,  0.],\n",
       "        [ 0.,  0.,  0., ...,  0., 13.,  0.],\n",
       "        [ 0.,  0.,  0., ...,  0.,  0., 18.]])"
      ]
     },
     "execution_count": 75,
     "metadata": {},
     "output_type": "execute_result"
    }
   ],
   "source": [
    "D_hat = np.array(np.sum(A_hat, axis=0))[0]\n",
    "D_hat = np.matrix(np.diag(D_hat))\n",
    "D_hat"
   ]
  },
  {
   "cell_type": "code",
   "execution_count": 77,
   "id": "d88e2f8c",
   "metadata": {},
   "outputs": [],
   "source": [
    "# now initialize weight randomly\n",
    "W_1 = np.random.normal(\n",
    "    loc=0, scale=1, size=(zkc.number_of_nodes(), 4))\n",
    "\n",
    "W_2 = np.random.normal(\n",
    "    loc=0, size=(W_1.shape[1], 2))"
   ]
  },
  {
   "cell_type": "code",
   "execution_count": 78,
   "id": "4c044607",
   "metadata": {},
   "outputs": [],
   "source": [
    "# Stack the GCN layers. We here use just the identity matrix as feature representation,\n",
    "# that is, each node is represented as a one-hot encoded  categorical variable."
   ]
  },
  {
   "cell_type": "code",
   "execution_count": 82,
   "id": "609a6648",
   "metadata": {},
   "outputs": [],
   "source": [
    "import torch\n",
    "def gcn_layer(A_hat, D_hat, X, W):\n",
    "    conv = D_hat**-1 * A_hat * X * W\n",
    "    conv1 = torch.from_numpy(conv)\n",
    "    conv1 = torch.nn.functional.relu(conv1)\n",
    "    return conv1\n",
    "\n",
    "H_1 = gcn_layer(A_hat, D_hat, I, W_1)\n",
    "H_1 = torch.Tensor.numpy(H_1)\n",
    "H_2 = gcn_layer(A_hat, D_hat, H_1, W_2)\n",
    "\n",
    "output = H_2"
   ]
  },
  {
   "cell_type": "code",
   "execution_count": 83,
   "id": "e9c2d114",
   "metadata": {},
   "outputs": [],
   "source": [
    "feature_representations = {\n",
    "    node: np.array(output)[node]\n",
    "    for node in zkc.nodes()\n",
    "}"
   ]
  },
  {
   "cell_type": "code",
   "execution_count": 84,
   "id": "a11eec95",
   "metadata": {},
   "outputs": [
    {
     "data": {
      "text/plain": [
       "{0: array([0.        , 0.04670342]),\n",
       " 1: array([0.       , 0.0594083]),\n",
       " 2: array([0.        , 0.11668517]),\n",
       " 3: array([0.        , 0.07472222]),\n",
       " 4: array([0.        , 0.00941296]),\n",
       " 5: array([0.        , 0.00786711]),\n",
       " 6: array([0.        , 0.00753037]),\n",
       " 7: array([0.        , 0.09704341]),\n",
       " 8: array([0.        , 0.10349355]),\n",
       " 9: array([0.        , 0.13489534]),\n",
       " 10: array([0.        , 0.00952861]),\n",
       " 11: array([0.        , 0.00695494]),\n",
       " 12: array([0.        , 0.04918243]),\n",
       " 13: array([0.        , 0.05351715]),\n",
       " 14: array([0.        , 0.04520564]),\n",
       " 15: array([0.      , 0.220111]),\n",
       " 16: array([0., 0.]),\n",
       " 17: array([0.        , 0.00840705]),\n",
       " 18: array([0.        , 0.05549262]),\n",
       " 19: array([0.       , 0.0316059]),\n",
       " 20: array([0.        , 0.15016782]),\n",
       " 21: array([0.        , 0.01031932]),\n",
       " 22: array([0.        , 0.18676205]),\n",
       " 23: array([0.        , 0.14602732]),\n",
       " 24: array([0.        , 0.18811123]),\n",
       " 25: array([0.        , 0.17650049]),\n",
       " 26: array([0.        , 0.17067942]),\n",
       " 27: array([0.        , 0.11164572]),\n",
       " 28: array([0.        , 0.14429284]),\n",
       " 29: array([0.        , 0.13401465]),\n",
       " 30: array([0.        , 0.09752066]),\n",
       " 31: array([0.        , 0.14070302]),\n",
       " 32: array([0.        , 0.18320604]),\n",
       " 33: array([0.        , 0.16975909])}"
      ]
     },
     "execution_count": 84,
     "metadata": {},
     "output_type": "execute_result"
    }
   ],
   "source": [
    "feature_representations"
   ]
  },
  {
   "cell_type": "code",
   "execution_count": null,
   "id": "7a01177c",
   "metadata": {},
   "outputs": [],
   "source": []
  }
 ],
 "metadata": {
  "kernelspec": {
   "display_name": "Python 3 (ipykernel)",
   "language": "python",
   "name": "python3"
  },
  "language_info": {
   "codemirror_mode": {
    "name": "ipython",
    "version": 3
   },
   "file_extension": ".py",
   "mimetype": "text/x-python",
   "name": "python",
   "nbconvert_exporter": "python",
   "pygments_lexer": "ipython3",
   "version": "3.9.7"
  }
 },
 "nbformat": 4,
 "nbformat_minor": 5
}
